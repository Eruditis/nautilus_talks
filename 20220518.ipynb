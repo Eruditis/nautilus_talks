{
 "cells": [
  {
   "cell_type": "markdown",
   "id": "5c220fcd-c2de-4efe-904b-17ade162f9b6",
   "metadata": {},
   "source": [
    "# NautilusTrader"
   ]
  },
  {
   "cell_type": "code",
   "execution_count": null,
   "id": "82072467-311d-4530-b210-c65a6459a3f4",
   "metadata": {},
   "outputs": [],
   "source": []
  },
  {
   "cell_type": "code",
   "execution_count": null,
   "id": "2e757392-2306-4049-b054-4e02f77276bc",
   "metadata": {},
   "outputs": [],
   "source": []
  },
  {
   "cell_type": "code",
   "execution_count": null,
   "id": "7657d528-364c-4cba-958f-095d8ac215c5",
   "metadata": {},
   "outputs": [],
   "source": []
  },
  {
   "cell_type": "code",
   "execution_count": null,
   "id": "c32890a9-5516-4de9-96cb-f52f13eed571",
   "metadata": {},
   "outputs": [],
   "source": []
  },
  {
   "cell_type": "code",
   "execution_count": null,
   "id": "74cc7630-565e-4f78-924b-d39af850e2f6",
   "metadata": {},
   "outputs": [],
   "source": []
  },
  {
   "cell_type": "code",
   "execution_count": null,
   "id": "8f95e6a8-9c2c-46a2-93fc-0ae58fb4ee60",
   "metadata": {},
   "outputs": [],
   "source": []
  }
 ],
 "metadata": {
  "kernelspec": {
   "display_name": "Python (nautilus_talks)",
   "language": "python",
   "name": "nautilus_talks"
  },
  "language_info": {
   "codemirror_mode": {
    "name": "ipython",
    "version": 3
   },
   "file_extension": ".py",
   "mimetype": "text/x-python",
   "name": "python",
   "nbconvert_exporter": "python",
   "pygments_lexer": "ipython3",
   "version": "3.9.7"
  }
 },
 "nbformat": 4,
 "nbformat_minor": 5
}
