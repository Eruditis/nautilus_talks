{
 "cells": [
  {
   "cell_type": "code",
   "execution_count": null,
   "id": "6aa6be65-9753-4042-b3f5-a91ea6da3bef",
   "metadata": {},
   "outputs": [],
   "source": [
    "import datetime\n",
    "import pandas as pd\n",
    "import hvplot.pandas\n",
    "import holoviews as hv\n",
    "\n",
    "from demo.backtest import CATALOG as catalog\n",
    "from demo.util import bars_to_dataframe"
   ]
  },
  {
   "cell_type": "markdown",
   "id": "03329eda-b11c-45b9-89c7-7408213e7a5b",
   "metadata": {},
   "source": [
    "# Pairs Trading"
   ]
  },
  {
   "cell_type": "markdown",
   "id": "53a1f3a5-79b2-4632-b72d-697c54df4b0f",
   "metadata": {},
   "source": [
    "### Premise\n",
    "- Two (or more) assets prices are related in some way\n",
    "- Their prices typically move together\n",
    "- Opportunities arise when one assert deviates from the relationship\n",
    "- Buy one, sell the other with the expectation they will return to their relationship at some point in the future"
   ]
  },
  {
   "cell_type": "markdown",
   "id": "0286f031-1beb-459e-81de-cab23a6bf98b",
   "metadata": {},
   "source": [
    "### Benefits\n",
    "- Applicable to a wide range of markets & assets\n",
    "- market neutral (if the market suddenly tanks, don't lose money)"
   ]
  },
  {
   "cell_type": "markdown",
   "id": "a9987e11-490f-4fef-b22d-bce3838c9fc1",
   "metadata": {},
   "source": [
    "### Challenges\n",
    "- Modelling the relationship (drifting pairs)\n",
    "- Transaction costs\n",
    "- Getting \"legged\""
   ]
  },
  {
   "cell_type": "markdown",
   "id": "635bbe6b-4f53-4edb-9f31-11a964bc2500",
   "metadata": {},
   "source": [
    "# Example\n",
    "- Two semiconductor ETFs `SMH` (VanEck Semiconductor ETF) and `SOXX` (iShares Semiconductor ETF)\n",
    "- Fundamental reasons for a relationship (both ETFs of similar stocks)\n",
    "- Visual analysis of price series confirms belief of relationship"
   ]
  },
  {
   "cell_type": "code",
   "execution_count": null,
   "id": "5b3192b7-25bb-4694-8d8b-d7ae7cebdd03",
   "metadata": {},
   "outputs": [],
   "source": [
    "# Load pre-loaded sample data from nautilus DataCatalog\n",
    "src_id = 'SMH.NASDAQ'\n",
    "tgt_id = 'SOXX.NASDAQ'\n",
    "src = catalog.bars(instrument_ids=[src_id], start=pd.Timestamp('2020-01-01'), end=pd.Timestamp('2020-01-10'), as_nautilus=True)\n",
    "tgt = catalog.bars(instrument_ids=[tgt_id], start=pd.Timestamp('2020-01-01'), end=pd.Timestamp('2020-01-10'), as_nautilus=True)"
   ]
  },
  {
   "cell_type": "code",
   "execution_count": null,
   "id": "d1a92647-da32-46b7-be55-71bf94c33e31",
   "metadata": {},
   "outputs": [],
   "source": [
    "# Merge into single Dataframe for convenience, filter for market hours only\n",
    "df = bars_to_dataframe(source_id=src_id, source_bars=src, target_id=tgt_id, target_bars=tgt)\n",
    "df.index = pd.to_datetime(df.index)\n",
    "df = df.between_time(datetime.time(14, 30), datetime.time(21,0))"
   ]
  },
  {
   "cell_type": "code",
   "execution_count": null,
   "id": "87b4176a-382c-4b2a-9b68-c31f99ac6ce8",
   "metadata": {},
   "outputs": [],
   "source": [
    "# View scatter plot of SMH vs SOXX\n",
    "df.pct_change().cumsum().hvplot.step(y=[src_id, tgt_id], title=f\"Time Series {src_id} vs {tgt_id}\")"
   ]
  },
  {
   "cell_type": "code",
   "execution_count": null,
   "id": "43415c16-53ae-491d-97b9-8a8074d07cf7",
   "metadata": {},
   "outputs": [],
   "source": [
    "# View scatter plot of SMH vs SOXX\n",
    "df.hvplot.scatter(x=src_id, y=tgt_id, title=f\"Price Scatter {src_id} vs {tgt_id}\")"
   ]
  },
  {
   "cell_type": "markdown",
   "id": "97c03f7f-a4e4-47e8-8de7-97a146b32a0a",
   "metadata": {},
   "source": [
    "## Fit a (simple) model"
   ]
  },
  {
   "cell_type": "code",
   "execution_count": null,
   "id": "79595557-00a0-48ea-9886-a7ce24dcd56a",
   "metadata": {},
   "outputs": [],
   "source": [
    "# Format values for scikit-learn\n",
    "X = df.loc[:, src_id].astype(float).values.reshape(-1, 1)\n",
    "Y = df.loc[:, tgt_id].astype(float).values.reshape(-1, 1)"
   ]
  },
  {
   "cell_type": "code",
   "execution_count": null,
   "id": "7954ba70-fe9b-4d29-8e7e-4f3d05750099",
   "metadata": {},
   "outputs": [],
   "source": [
    "# Fit a model\n",
    "from sklearn.linear_model import LinearRegression\n",
    "from sklearn.metrics import r2_score\n",
    "\n",
    "model = LinearRegression(fit_intercept=False)\n",
    "model.fit(X, Y)"
   ]
  },
  {
   "cell_type": "code",
   "execution_count": null,
   "id": "6fa94689-7e1a-481f-b6e8-863c2f92fed9",
   "metadata": {},
   "outputs": [],
   "source": [
    "hedge_ratio = float(model.coef_[0][0])"
   ]
  },
  {
   "cell_type": "code",
   "execution_count": null,
   "id": "1d3ab3bb-a896-4e71-9de7-e97758f18760",
   "metadata": {},
   "outputs": [],
   "source": [
    "df.loc[:, \"predicted\"] = (df[src_id] * hedge_ratio)\n",
    "df.loc[:, \"spread\"] = df['predicted'] - df[tgt_id]"
   ]
  },
  {
   "cell_type": "code",
   "execution_count": null,
   "id": "3e9bbfbd-593e-4ba9-9b86-a24e45bee97e",
   "metadata": {},
   "outputs": [],
   "source": [
    "# df.hvplot.hist(\"spread\", bins=100)"
   ]
  },
  {
   "cell_type": "code",
   "execution_count": null,
   "id": "b43df207-6b61-46ac-9c61-b806df733bff",
   "metadata": {},
   "outputs": [],
   "source": [
    "ts_plot = df.hvplot.step(y=[tgt_id, 'predicted']) \n",
    "spread_plot = df['spread'].hvplot() * hv.HLine(0).opts(color='r', line_width=1)\n",
    "(ts_plot + spread_plot).cols(1)"
   ]
  },
  {
   "cell_type": "markdown",
   "id": "054877e5-e2fc-4c72-9074-0ff02871baed",
   "metadata": {},
   "source": [
    "## Example Trade"
   ]
  },
  {
   "cell_type": "code",
   "execution_count": null,
   "id": "d7ab01a8-84ec-4a09-8865-36f1bb2426d0",
   "metadata": {},
   "outputs": [],
   "source": [
    "notional = 10_000\n",
    "entry = \"2020-01-03 14:43:40\" # BUY SMH / SELL SOXX\n",
    "exit =  \"2020-01-03 14:52:10\""
   ]
  },
  {
   "cell_type": "code",
   "execution_count": null,
   "id": "e1adcf70-9135-482f-8615-307c7b3e9a20",
   "metadata": {},
   "outputs": [],
   "source": [
    "spread_side = \"SELL\" if df.loc[entry]['spread'] > 0 else \"BUY\"\n",
    "opp_side = {\"BUY\": \"SELL\", \"SELL\": \"BUY\"}"
   ]
  },
  {
   "cell_type": "markdown",
   "id": "26f2d48b-1b69-4495-918b-a1c50eeb2a39",
   "metadata": {},
   "source": [
    "### Entry"
   ]
  },
  {
   "cell_type": "code",
   "execution_count": null,
   "id": "e0b98fb2-5b7d-45a3-ac45-e4d8b76419aa",
   "metadata": {},
   "outputs": [],
   "source": [
    "src_entry_price = df.loc[entry][src_id]\n",
    "src_shares = int(notional / df.loc[entry][src_id])\n",
    "\n",
    "tgt_entry_price = df.loc[entry][tgt_id]\n",
    "tgt_shares = int(notional / df.loc[entry][tgt_id])\n",
    "\n",
    "print(f\"{spread_side} {src_id} @ {src_entry_price}\\n{opp_side[spread_side]} {tgt_id} @ {tgt_entry_price}\")"
   ]
  },
  {
   "cell_type": "markdown",
   "id": "04c7657c-843f-4058-95b7-381e361d9f35",
   "metadata": {},
   "source": [
    "### Exit"
   ]
  },
  {
   "cell_type": "code",
   "execution_count": null,
   "id": "9ec93899-e289-406c-822b-3e1217f656d1",
   "metadata": {},
   "outputs": [],
   "source": [
    "src_exit_price = df.loc[exit][src_id]\n",
    "tgt_exit_price = df.loc[exit][tgt_id]\n",
    "\n",
    "print(f\"{opp_side[spread_side]} {src_id} @ {src_exit_price}\\n{spread_side} {tgt_id} @ {tgt_exit_price}\")"
   ]
  },
  {
   "cell_type": "markdown",
   "id": "73ca2f2d-29b9-4fa0-b1bb-1f98b400418e",
   "metadata": {},
   "source": [
    "### PNL"
   ]
  },
  {
   "cell_type": "code",
   "execution_count": null,
   "id": "1f2ae110-855c-4e8d-b4bc-9042a6e8bd5c",
   "metadata": {},
   "outputs": [],
   "source": [
    "CASH_SIDE = {\"SELL\": 1.0, \"BUY\": -1.0}\n",
    "src_pnl = (src_shares * (src_entry_price - src_exit_price)  * CASH_SIDE[spread_side])\n",
    "tgt_pnl = (tgt_shares * (tgt_entry_price - tgt_exit_price) * CASH_SIDE[opp_side[spread_side]]) \n",
    "\n",
    "print(f\"{src_id} ({src_shares=}): {spread_side} @ {src_entry_price}, {opp_side[spread_side]} @ {src_exit_price}, {src_pnl=:0.2f}\")\n",
    "print(f\"{tgt_id} ({tgt_shares=}): {opp_side[spread_side]} @ {tgt_entry_price}, {spread_side} @ {tgt_exit_price}, {tgt_pnl=:0.2f}\")"
   ]
  },
  {
   "cell_type": "code",
   "execution_count": null,
   "id": "b9aed15f-3c52-439f-a890-f5e0559062ce",
   "metadata": {},
   "outputs": [],
   "source": [
    "total_pnl = src_pnl + tgt_pnl\n",
    "roi = total_pnl / notional"
   ]
  },
  {
   "cell_type": "code",
   "execution_count": null,
   "id": "c84bf810-570f-4372-926a-15733f55b5d5",
   "metadata": {},
   "outputs": [],
   "source": [
    "BPS = 10_000\n",
    "f\"{total_pnl = :0.1f}, ROI ($10_000) = {roi * BPS:0.1f} bps\""
   ]
  },
  {
   "cell_type": "code",
   "execution_count": null,
   "id": "ab61bbb7-34f4-43eb-9a73-ec56f1cfb883",
   "metadata": {},
   "outputs": [],
   "source": [
    "trade_time = (pd.Timestamp(exit) - pd.Timestamp(entry))\n",
    "f\"Trade time: {trade_time}\""
   ]
  },
  {
   "cell_type": "code",
   "execution_count": null,
   "id": "0e08f771-4f19-4b07-b707-a62f09c19fc1",
   "metadata": {},
   "outputs": [],
   "source": []
  },
  {
   "cell_type": "code",
   "execution_count": null,
   "id": "e888b88e-dd8e-4d80-b69f-66f3c1d953eb",
   "metadata": {},
   "outputs": [],
   "source": []
  }
 ],
 "metadata": {
  "kernelspec": {
   "display_name": "Python (nautilus_talks_20220617)",
   "language": "python",
   "name": "nautilus_talks_20220617"
  },
  "language_info": {
   "codemirror_mode": {
    "name": "ipython",
    "version": 3
   },
   "file_extension": ".py",
   "mimetype": "text/x-python",
   "name": "python",
   "nbconvert_exporter": "python",
   "pygments_lexer": "ipython3",
   "version": "3.10.0"
  }
 },
 "nbformat": 4,
 "nbformat_minor": 5
}
