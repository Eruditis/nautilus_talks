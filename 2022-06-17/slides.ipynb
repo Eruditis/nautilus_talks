{
 "cells": [
  {
   "cell_type": "markdown",
   "id": "5c220fcd-c2de-4efe-904b-17ade162f9b6",
   "metadata": {
    "slideshow": {
     "slide_type": "slide"
    },
    "tags": []
   },
   "source": [
    "# Nautilus Trader"
   ]
  },
  {
   "cell_type": "markdown",
   "id": "9d594163-481a-49dd-9c48-d71b8a199a9c",
   "metadata": {},
   "source": [
    "NautilusTrader is an open-source, high-performance, production-grade algorithmic trading platform, providing quantitative traders with the ability to backtest portfolios of automated trading strategies on historical data with an event-driven engine, and also deploy those same strategies live, with no change in code."
   ]
  },
  {
   "cell_type": "markdown",
   "id": "122c3687-9a3a-48da-9c9b-6aa5134a0ba5",
   "metadata": {
    "slideshow": {
     "slide_type": "slide"
    },
    "tags": []
   },
   "source": [
    "## Background"
   ]
  },
  {
   "cell_type": "markdown",
   "id": "607c962f-b7f1-4d55-8db7-9e71ede05ee4",
   "metadata": {
    "slideshow": {
     "slide_type": "subslide"
    },
    "tags": []
   },
   "source": [
    "- Philosophy (correctness, performance, research → prod parity)"
   ]
  },
  {
   "cell_type": "markdown",
   "id": "26f74d98-2168-4f3c-8369-7067c0d60c26",
   "metadata": {},
   "source": [
    "- Features headlines (could just briefly scroll the README)"
   ]
  },
  {
   "cell_type": "markdown",
   "id": "393b597e-1fcf-49af-98ce-e8e11943fc5c",
   "metadata": {
    "slideshow": {
     "slide_type": "subslide"
    },
    "tags": []
   },
   "source": [
    "- Event-driven, messaging"
   ]
  },
  {
   "cell_type": "markdown",
   "id": "1bf6f584-f862-42f0-9540-2d53023269e9",
   "metadata": {
    "slideshow": {
     "slide_type": "subslide"
    },
    "tags": []
   },
   "source": [
    "- Performance features - Cython and Rust (brief)"
   ]
  },
  {
   "cell_type": "markdown",
   "id": "929e311a-14e8-474f-9fed-1ea36b457328",
   "metadata": {
    "slideshow": {
     "slide_type": "subslide"
    },
    "tags": []
   },
   "source": [
    "- Framework + System implementations (repo organization, same core system)"
   ]
  },
  {
   "cell_type": "markdown",
   "id": "7878e7f1-674d-4555-9b44-6e24de4a2d3d",
   "metadata": {
    "slideshow": {
     "slide_type": "subslide"
    },
    "tags": []
   },
   "source": [
    "- High level architecture [slide]"
   ]
  },
  {
   "cell_type": "markdown",
   "id": "4267adee-31fd-468b-b074-ee5d0bee0f06",
   "metadata": {
    "slideshow": {
     "slide_type": "subslide"
    },
    "tags": []
   },
   "source": [
    "- Strategy (brief)"
   ]
  },
  {
   "cell_type": "markdown",
   "id": "b3ae2d45-dfb2-4cec-9b84-ebf4975446ff",
   "metadata": {
    "slideshow": {
     "slide_type": "subslide"
    },
    "tags": []
   },
   "source": [
    "- Backtest vs Live (strategy impl)"
   ]
  },
  {
   "cell_type": "markdown",
   "id": "2bbcbd01-b3c6-448c-8849-4495f67456fc",
   "metadata": {
    "slideshow": {
     "slide_type": "slide"
    },
    "tags": []
   },
   "source": [
    "### From a users perspective"
   ]
  },
  {
   "cell_type": "markdown",
   "id": "96c30d81-9afd-44ca-ac59-9974e5fe64a9",
   "metadata": {},
   "source": [
    "[img](https://nautkilus)"
   ]
  },
  {
   "cell_type": "markdown",
   "id": "a0480139-08d7-4c58-95be-c824531c68e8",
   "metadata": {
    "slideshow": {
     "slide_type": "subslide"
    },
    "tags": []
   },
   "source": [
    "- flexibility (betting)\n",
    "- performance → easy to debug strategy because its so fast\n",
    "- research/prod parity,\n",
    "- very powerful (vs pandas)"
   ]
  },
  {
   "cell_type": "markdown",
   "id": "9a092add-8e96-4abd-8b70-b7d03e6030a6",
   "metadata": {
    "slideshow": {
     "slide_type": "slide"
    },
    "tags": []
   },
   "source": [
    "```python\n",
    "from nautilus_trader.config import StrategyConfig\n",
    "from nautilus_trader.trading.strategy import Strategy\n",
    "from nautilus_trader.model.data.tick import QuoteTick\n",
    "\n",
    "\n",
    "class EMACrossConfig(StrategyConfig):\n",
    "    instrument_id: str\n",
    "\n",
    "\n",
    "class EMACross(Strategy):\n",
    "    def __init__(self, config: EMACrossConfig):\n",
    "        super().__init__(config)\n",
    "\n",
    "    def on_start(self):\n",
    "        self.subscribe_quote_ticks(self.instrument_id)\n",
    "    \n",
    "    def on_quote_tick(self, tick: QuoteTick):\n",
    "        print(tick)\n",
    "```"
   ]
  },
  {
   "cell_type": "code",
   "execution_count": null,
   "id": "6b28b488-40f7-49d1-b3b3-4f6e38720c31",
   "metadata": {
    "slideshow": {
     "slide_type": "subslide"
    },
    "tags": []
   },
   "outputs": [],
   "source": [
    "print(123)"
   ]
  },
  {
   "cell_type": "code",
   "execution_count": null,
   "id": "b734a221-bb3c-4d01-892d-9ec80d8ccc10",
   "metadata": {},
   "outputs": [],
   "source": []
  },
  {
   "cell_type": "code",
   "execution_count": null,
   "id": "159f2cd3-9000-4a75-aabb-c707a4598523",
   "metadata": {},
   "outputs": [],
   "source": []
  }
 ],
 "metadata": {
  "jupytext": {
   "formats": "ipynb,md"
  },
  "kernelspec": {
   "display_name": "Python (nautilus_talks)",
   "language": "python",
   "name": "nautilus_talks"
  },
  "language_info": {
   "codemirror_mode": {
    "name": "ipython",
    "version": 3
   },
   "file_extension": ".py",
   "mimetype": "text/x-python",
   "name": "python",
   "nbconvert_exporter": "python",
   "pygments_lexer": "ipython3",
   "version": "3.10.0"
  }
 },
 "nbformat": 4,
 "nbformat_minor": 5
}
